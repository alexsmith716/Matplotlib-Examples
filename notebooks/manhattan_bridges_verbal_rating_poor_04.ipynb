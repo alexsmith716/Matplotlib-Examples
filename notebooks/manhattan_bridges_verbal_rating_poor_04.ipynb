{
	"cells": [
	{
		"cell_type": "code",
		"execution_count": null,
		"metadata": {},
		"outputs": [],
		"source": [
			"%xmode Minimal"
		]
	},
	{
		"cell_type": "markdown",
		"metadata": {},
		"source": [
			"# Example #4 - Tabulate all Manhattan DOT bridges with a 'Verbal Rating' of 'POOR'."
		]
	},
	{
		"cell_type": "markdown",
		"metadata": {},
		"source": [
			"### The Dataset is '*New York City bridge structure conditions and ratings*'."
		]
	},
	{
		"cell_type": "markdown",
		"metadata": {},
		"source": [
			"#### The source for the base Dataset can be found here: [https://data.cityofnewyork.us/Transportation/Bridge-Ratings/4yue-vjfc](https://data.cityofnewyork.us/Transportation/Bridge-Ratings/4yue-vjfc)."
		]
	},
	{
		"cell_type": "markdown",
		"metadata": {},
		"source": [
			"Send a HTTP request to receive a Pandas DataFrame representing all NYC Department of Transportation (DOT) bridges located in Manhattan that have a 'Verbal Rating' of 'POOR'. Also, any duplicate rows of column 'BIN' are dropped from the DataFrame."
		]
	},
	{
		"cell_type": "markdown",
		"metadata": {},
		"source": [
			"The HTTP request is to endpoint `/botosssgetobject/streambridgeratings` under domain `https://portfolio-alexsmith716.vercel.app`."
		]
	},
	{
		"cell_type": "markdown",
		"metadata": {},
		"source": [
			"Import `requests` and `pandas` packages into the Notebook."
		]
	},
	{
		"cell_type": "code",
		"execution_count": null,
		"metadata": {},
		"outputs": [],
		"source": [
			"import requests\n",
			"import pandas as pd"
		]
	},
	{
		"cell_type": "code",
		"execution_count": null,
		"metadata": {},
		"outputs": [],
		"source": [
		"def get_bridge_ratings_boro_m_vr_poor_df():\n",
		" try:\n",
		"   response = requests.get('https://portfolio-alexsmith716.vercel.app/botosssgetobject/streambridgeratingstest')\n",
		"   response.raise_for_status()\n",
		"   response_json = response.json()\n",
		"   dfData = {\n",
		"     'BIN': [],\n",
		"     'Borough': [],\n",
		"     'Feature Carried': [],\n",
		"     'Current Rating': [],\n",
		"     'Verbal Rating': [],\n",
		"     'Replacement Cost': [],\n",
		"     'Latitude': [],\n",
		"     'Longitude': []\n",
		"   }\n",
		"   for i in response_json:\n",
		"     if i['BORO'] == 'M' and i['Verbal Rating'] == 'POOR':\n",
		"       if i['BORO'] == 'B':\n",
		"         i['BORO'] = 'Bronx'\n",
		"       if i['BORO'] == 'BM':\n",
		"         i['BORO'] = 'Bronx-Manhattan'\n",
		"       if i['BORO'] == 'K':\n",
		"         i['BORO'] = 'Brooklyn'\n",
		"       if i['BORO'] == 'KM':\n",
		"         i['BORO'] = 'Brooklyn-Manhattan'\n",
		"       if i['BORO'] == 'KQ':\n",
		"         i['BORO'] = 'Brooklyn-Queens'\n",
		"       if i['BORO'] == 'M':\n",
		"         i['BORO'] = 'Manhattan'\n",
		"       if i['BORO'] == 'MQ':\n",
		"         i['BORO'] = 'Manhattan-Queens'\n",
		"       if i['BORO'] == 'Q':\n",
		"         i['BORO'] = 'Queens'\n",
		"       if i['BORO'] == 'R':\n",
		"         i['BORO'] = 'Staten Island'\n",
		"       dfData['BIN'].append(i['BIN'])\n",
		"       dfData['Borough'].append(i['BORO'])\n",
		"       dfData['Feature Carried'].append(i['FEATURE CARRIED'])\n",
		"       dfData['Current Rating'].append(i['Current Rating*'])\n",
		"       dfData['Verbal Rating'].append(i['Verbal Rating'])\n",
		"       dfData['Replacement Cost'].append(i['REPLACEMENT COST'])\n",
		"       dfData['Latitude'].append(i['X - COORD  (LAT)'])\n",
		"       dfData['Longitude'].append(i['Y - COORD   (LON)'])\n",
		"   df = pd.DataFrame(dfData)\n",
		"   dfDeDuped = df.drop_duplicates('BIN')\n",
		"   return dfDeDuped\n",
		" except requests.exceptions.HTTPError as error:\n",
		"   print('HTTPError: ', error)\n",
		" except requests.exceptions.RequestException as error:\n",
		"   print('RequestException Error: ', error)\n",
		"   #raise\n",
		"\n",
		"get_bridge_ratings_boro_m_vr_poor_df()"
		]
	},
	{
		"cell_type": "code",
		"execution_count": null,
		"metadata": {},
		"outputs": [],
		"source": []
	}
 ],
 "metadata": {
		"kernelspec": {
			"display_name": "Python 3 (ipykernel)",
			"language": "python",
			"name": "python3"
		},
		"language_info": {
			"codemirror_mode": {
				"name": "ipython",
				"version": 3
			},
			"file_extension": ".py",
			"mimetype": "text/x-python",
			"name": "python",
			"nbconvert_exporter": "python",
			"pygments_lexer": "ipython3",
			"version": "3.11.1"
		}
	},
	"nbformat": 4,
	"nbformat_minor": 4
}
