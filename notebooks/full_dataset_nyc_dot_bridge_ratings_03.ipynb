{
	"cells": [
	{
		"cell_type": "code",
		"execution_count": null,
		"metadata": {},
		"outputs": [],
		"source": [
			"%xmode Minimal"
		]
	},
	{
		"cell_type": "markdown",
		"metadata": {},
		"source": [
			"# Example #3 - Tabulate the full dataset of NYC DOT Bridge Ratings."
		]
	},
	{
		"cell_type": "markdown",
		"metadata": {},
		"source": [
			"### The Dataset is '*New York City bridge structure conditions and ratings*'."
		]
	},
	{
		"cell_type": "markdown",
		"metadata": {},
		"source": [
			"#### The source for the base Dataset can be found here: [https://data.cityofnewyork.us/Transportation/Bridge-Ratings/4yue-vjfc](https://data.cityofnewyork.us/Transportation/Bridge-Ratings/4yue-vjfc)."
		]
	},
	{
		"cell_type": "markdown",
		"metadata": {},
		"source": [
			"Send a HTTP request to receive the full the full dataset of NYC DOT Bridge Ratings."
		]
	},
	{
		"cell_type": "markdown",
		"metadata": {},
		"source": [
			"The HTTP request is to endpoint `/botosssgetobject/streambridgeratings` under domain `https://portfolio-alexsmith716.vercel.app`."
		]
	},
	{
		"cell_type": "markdown",
		"metadata": {},
		"source": [
			"Import `requests` and `pandas` package into the Notebook."
		]
	},
	{
		"cell_type": "code",
		"execution_count": null,
		"metadata": {},
		"outputs": [],
		"source": [
			"import requests\n",
			"import pandas as pd"
		]
	},
	{
		"cell_type": "code",
		"execution_count": null,
		"metadata": {},
		"outputs": [],
		"source": [
		"def get_bridge_ratings_boro_m_vr_poor_df():\n",
		" try:\n",
		"   pd_response = 'https://portfolio-alexsmith7166666.vercel.app/botosssgetobject/streambridgeratings'\n",
    "   pdReadCsv = pd.read_csv(pd_response)\n",
    "   pdReadCsv.raise_for_status()\n",
		"   #print('>>> pd_responsepd_response: ', pd_response.json())\n",
		"   #print('>>> pd_responsepd_response: ', pd_response\n",
		"   return pdReadCsv\n",
		" except requests.exceptions.HTTPError as error:\n",
		"   print('HTTPError: ', error)\n",
		" except requests.exceptions.RequestException as error:\n",
		"   print('RequestException Error: ', error)\n",
		"   #raise\n",
		"\n",
		"get_bridge_ratings_boro_m_vr_poor_df()"
		]
	},
	{
		"cell_type": "code",
		"execution_count": null,
		"metadata": {},
		"outputs": [],
		"source": []
	}
 ],
 "metadata": {
		"kernelspec": {
			"display_name": "Python 3 (ipykernel)",
			"language": "python",
			"name": "python3"
		},
		"language_info": {
			"codemirror_mode": {
				"name": "ipython",
				"version": 3
			},
			"file_extension": ".py",
			"mimetype": "text/x-python",
			"name": "python",
			"nbconvert_exporter": "python",
			"pygments_lexer": "ipython3",
			"version": "3.11.1"
		}
	},
	"nbformat": 4,
	"nbformat_minor": 4
}
