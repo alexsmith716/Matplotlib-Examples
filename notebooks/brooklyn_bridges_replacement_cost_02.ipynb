{
	"cells": [
	{
		"cell_type": "code",
		"execution_count": null,
		"metadata": {},
		"outputs": [],
		"source": [
			"%xmode Minimal"
		]
	},
	{
		"cell_type": "markdown",
		"metadata": {},
		"source": [
			"# Example #2 - Calculate the dollar value of replacing all the DOT bridges in Brooklyn."
		]
	},
	{
		"cell_type": "markdown",
		"metadata": {},
		"source": [
			"### The Dataset is '*New York City bridge structure conditions and ratings*'."
		]
	},
	{
		"cell_type": "markdown",
		"metadata": {},
		"source": [
			"#### The source for the base Dataset can be found here: [https://data.cityofnewyork.us/Transportation/Bridge-Ratings/4yue-vjfc](https://data.cityofnewyork.us/Transportation/Bridge-Ratings/4yue-vjfc)."
		]
	},
	{
		"cell_type": "markdown",
		"metadata": {},
		"source": [
			"The HTTP request is to endpoint `botosssgetobject/brooklynbridgesreplacementcost` under domain `https://portfolio-alexsmith716.vercel.app`."
		]
	},
	{
		"cell_type": "markdown",
		"metadata": {},
		"source": [
			"Import `requests` and `pandas` packages into the Notebook."
		]
	},
	{
		"cell_type": "code",
		"execution_count": null,
		"metadata": {},
		"outputs": [],
		"source": [
			"import requests\n",
			"import pandas as pd"
		]
	},
	{
		"cell_type": "code",
		"execution_count": null,
		"metadata": {},
		"outputs": [],
		"source": [
		"def get_brooklyn_bridges_replacement_cost():\n",
		" try:\n",
		"   response = requests.get('https://portfolio-alexsmith716.vercel.app/botosssgetobject/brooklynbridgesreplacementcost')\n",
		"   response.raise_for_status()\n",
		"   replacement_cost = response.json()\n",
		"   return '${:,}'.format(replacement_cost['data'])\n",
		" except requests.exceptions.HTTPError as error:\n",
		"   print('HTTPError: ', error)\n",
		" except requests.exceptions.RequestException as error:\n",
		"   print('RequestException Error: ', error)\n",
		"   #raise\n",
		"\n",
		"get_brooklyn_bridges_replacement_cost()" 
		]
	},
	{
		"cell_type": "markdown",
		"metadata": {},
		"source": [
			"*** The above calculated value is not correct. The source Dataset has multiple rows with duplicated 'BIN' columns. I have already made the `df.drop_duplicates('BIN')` adjustment in another porject and will add change here in next push. ***"
		]
	},
	{
		"cell_type": "code",
		"execution_count": null,
		"metadata": {},
		"outputs": [],
		"source": []
	}
 ],
 "metadata": {
		"kernelspec": {
			"display_name": "Python 3 (ipykernel)",
			"language": "python",
			"name": "python3"
		},
		"language_info": {
			"codemirror_mode": {
				"name": "ipython",
				"version": 3
			},
			"file_extension": ".py",
			"mimetype": "text/x-python",
			"name": "python",
			"nbconvert_exporter": "python",
			"pygments_lexer": "ipython3",
			"version": "3.11.1"
		}
	},
	"nbformat": 4,
	"nbformat_minor": 4
}
