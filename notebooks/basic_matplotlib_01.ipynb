{
	"cells": [
	{
		"cell_type": "markdown",
		"metadata": {},
		"source": [
			"# Example #1 - Basic Matplotlib Example"
		]
	},
	{
		"cell_type": "markdown",
		"metadata": {},
		"source": [
			"This is a basic Matplotlib example."
		]
	},
	{
		"cell_type": "markdown",
		"metadata": {},
		"source": [
			"Let's start with a fancy equation. "
		]
	},
	{
		"cell_type": "code",
		"execution_count": null,
		"metadata": {},
		"outputs": [],
		"source": [
			"vol = 0.2\n",
			"time = 1."
		]
	},
	{
		"cell_type": "code",
		"execution_count": null,
		"metadata": {},
		"outputs": [],
		"source": [
			"2. * ( (1 / ( 2 * 3.14 ) ** 0.5 ) * vol * time ** 0.5 )"
		]
	},
	{
		"cell_type": "markdown",
		"metadata": {},
		"source": [
			"We can use a library called `matplotlib` and `numpy`. Let's import them below."
		]
	},
	{
		"cell_type": "code",
		"execution_count": null,
		"metadata": {},
		"outputs": [],
		"source": [
			"import matplotlib as mpl\n",
			"import matplotlib.pyplot as plt\n",
			"import numpy as np"
		]
	},
	{
		"cell_type": "code",
		"execution_count": null,
		"metadata": {},
		"outputs": [],
		"source": [
			"fig, ax = plt.subplots()\n",
			"ax.plot([1, 2, 3, 4], [1, 4, 2, 3]);"
		]
	},
	{
		"cell_type": "code",
		"execution_count": null,
		"metadata": {},
		"outputs": [],
		"source": []
	}
 ],
 "metadata": {
		"kernelspec": {
			"display_name": "Python 3 (ipykernel)",
			"language": "python",
			"name": "python3"
		},
		"language_info": {
			"codemirror_mode": {
				"name": "ipython",
				"version": 3
			},
			"file_extension": ".py",
			"mimetype": "text/x-python",
			"name": "python",
			"nbconvert_exporter": "python",
			"pygments_lexer": "ipython3",
			"version": "3.11.1"
		}
	},
	"nbformat": 4,
	"nbformat_minor": 4
}
